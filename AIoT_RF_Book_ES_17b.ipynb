{
  "cells": [
    {
      "cell_type": "markdown",
      "metadata": {
        "id": "view-in-github",
        "colab_type": "text"
      },
      "source": [
        "<a href=\"https://colab.research.google.com/github/bemakerorg/AIoT_Book_II_RF/blob/main/AIoT_RF_Book_ES_17b.ipynb\" target=\"_parent\"><img src=\"https://colab.research.google.com/assets/colab-badge.svg\" alt=\"Open In Colab\"/></a>"
      ]
    },
    {
      "cell_type": "code",
      "execution_count": null,
      "metadata": {
        "cellView": "both",
        "id": "D1J15Vh_1Jih"
      },
      "outputs": [],
      "source": [
        "# Importiamo la libreria TensrFlow e verifichiamo che sia la versione 2.18.0\n",
        "import tensorflow as tf\n",
        "print(\"Current TensorFlow version:\", {tf.__version__})\n",
        "if tf.__version__ != \"2.18.0\":\n",
        "    print(f\"Current TensorFlow version: {tf.__version__}, switching to 2.18.0\")\n",
        "\n",
        "    # Disistalla la libreria se diversa dalla 2.18.0\n",
        "    !pip uninstall -y tensorflow\n",
        "\n",
        "    # Installa la libreria TensorFlow 2.18\n",
        "    !pip install tensorflow==2.18\n",
        "\n",
        "    # Dopo l'istallazione occorre riavviare il runtime\n",
        "    print(\"TensorFlow 2.18 installed.\")\n",
        "    print(\"Please click on the Runtime > Restart session and run all.\")\n",
        "else:\n",
        "    print(\"TensorFlow 2.18 is already installed.\")"
      ]
    },
    {
      "cell_type": "code",
      "source": [
        "# 1) Import delle librerie necessarie\n",
        "import numpy as np                                       # NumPy per gli array e operazioni numeriche\n",
        "from tensorflow import keras                             # Keras API per costruire modelli di reti\n",
        "import pathlib                                           # pathlib per operazioni su percorsi di file"
      ],
      "metadata": {
        "id": "aSiQkXJYoYZE"
      },
      "execution_count": null,
      "outputs": []
    },
    {
      "cell_type": "code",
      "source": [
        "# 2) Costruzione del modello Sequenziale con un singolo neurone\n",
        "my_layer = keras.layers.Dense(units=1, input_shape=[1]) # Crea un layer Dense con 1 neurone e input scalare\n",
        "model = keras.Sequential([my_layer])                     # Avvolge il layer in un modello Sequential"
      ],
      "metadata": {
        "id": "3h9hkj6vohUz"
      },
      "execution_count": null,
      "outputs": []
    },
    {
      "cell_type": "code",
      "source": [
        "# 3) Compilazione del modello\n",
        "model.compile(\n",
        "    optimizer='sgd',                                   # Ottimizzatore Stochastic Gradient Descent\n",
        "    loss='mean_squared_error'                          # Funzione di perdita MSE per regressione\n",
        ")"
      ],
      "metadata": {
        "id": "7V1vcM2ponUT"
      },
      "execution_count": null,
      "outputs": []
    },
    {
      "cell_type": "code",
      "source": [
        "# 4) Preparazione dei dati di training\n",
        "xs = np.array([4.0, 2.0, -1.0, 1.0, 0.0, 3.0], dtype=float)   # Array degli input\n",
        "ys = np.array([7.0, 3.0, -3.0, 1.0, -1.0, 5.0], dtype=float)  # Array dei target corrispondenti"
      ],
      "metadata": {
        "id": "m7TvvwA0oxyS"
      },
      "execution_count": null,
      "outputs": []
    },
    {
      "cell_type": "code",
      "source": [
        "# 5) Addestramento del modello\n",
        "model.fit(\n",
        "    xs,                                              # Inputs\n",
        "    ys,                                              # Target outputs\n",
        "    epochs=500                                       # Numero di epoche di training\n",
        ")"
      ],
      "metadata": {
        "id": "6S9oY1N3o4Eb"
      },
      "execution_count": null,
      "outputs": []
    },
    {
      "cell_type": "code",
      "source": [
        "# 6) Stampa del peso W e del bias b appresi\n",
        "print(\"Peso e bias appreso:\", my_layer.get_weights())  # Restituisce [w, b]"
      ],
      "metadata": {
        "id": "vbgsvqZ6o_16"
      },
      "execution_count": null,
      "outputs": []
    },
    {
      "cell_type": "code",
      "source": [
        "# 7) Predizione di esempio con x=10.0\n",
        "print(\"Predizione con x=10.0:\", model.predict(np.array([10.0])))"
      ],
      "metadata": {
        "id": "ZlrFQtuspQXi"
      },
      "execution_count": null,
      "outputs": []
    },
    {
      "cell_type": "code",
      "source": [
        "# 8) Esportazione del modello in formato SavedModel\n",
        "saved_dir = 'saved_model/1'                     # Directory di destinazione\n",
        "model.export(saved_dir)                         # Esporta il modello in SavedModel compatibile TF\n",
        "print(f\"Modello esportato in formato SavedModel in: {pathlib.Path(saved_dir).resolve()}\")"
      ],
      "metadata": {
        "id": "ENkMGMtzpGxa"
      },
      "execution_count": null,
      "outputs": []
    },
    {
      "cell_type": "code",
      "source": [
        "# 9) Configurazione del converter TFLite per il SavedModel\n",
        "converter = tf.lite.TFLiteConverter.from_saved_model(saved_dir)  # Crea il converter\n",
        "converter.experimental_enable_resource_variables = True          # Fold delle variabili in costanti\n",
        "tflite_model = converter.convert()                              # Esegue la conversione"
      ],
      "metadata": {
        "id": "1Uc-LcsmpaQa"
      },
      "execution_count": null,
      "outputs": []
    },
    {
      "cell_type": "code",
      "source": [
        "# 10) Salvataggio del flatbuffer TFLite su disco\n",
        "tflite_path = pathlib.Path('model_from_savedmodel.tflite')      # Percorso output .tflite\n",
        "tflite_path.write_bytes(tflite_model)                           # Scrive i byte del modello\n",
        "print(f\"TFLite model salvato in: {tflite_path.resolve()}\")"
      ],
      "metadata": {
        "id": "tTuJu7UkpgDh"
      },
      "execution_count": null,
      "outputs": []
    },
    {
      "cell_type": "code",
      "source": [
        "# 11) Inizializzazione dell’interprete TFLite\n",
        "interpreter = tf.lite.Interpreter(model_path=str(tflite_path))  # Carica il modello TFLite\n",
        "interpreter.allocate_tensors()                                  # Alloca memoria per tensori"
      ],
      "metadata": {
        "id": "2s0rhur7pkSK"
      },
      "execution_count": null,
      "outputs": []
    },
    {
      "cell_type": "code",
      "source": [
        "# 12) Recupero dei dettagli di input e output\n",
        "input_details  = interpreter.get_input_details()  # Metadati sul tensore di input\n",
        "output_details = interpreter.get_output_details() # Metadati sul tensore di output\n",
        "print(\"Input details:\", input_details)\n",
        "print(\"Output details:\", output_details)"
      ],
      "metadata": {
        "id": "iYi1MHHIpo8a"
      },
      "execution_count": null,
      "outputs": []
    },
    {
      "cell_type": "code",
      "source": [
        "# 13) Esecuzione dell’inferenza TFLite\n",
        "to_predict = np.array([[10.0]], dtype=np.float32)             # Dati di input formattati\n",
        "interpreter.set_tensor(input_details[0]['index'], to_predict) # Carica il tensore di input\n",
        "interpreter.invoke()                                         # Esegue il modello\n",
        "tflite_results = interpreter.get_tensor(output_details[0]['index'])  # Estrae il risultato\n",
        "print(\"Risultato TFLite per x=10.0:\", tflite_results)        # Stampa l’output dell'inferenza"
      ],
      "metadata": {
        "id": "aVDeyB8KptOZ"
      },
      "execution_count": null,
      "outputs": []
    }
  ],
  "metadata": {
    "colab": {
      "provenance": [],
      "include_colab_link": true
    },
    "kernelspec": {
      "display_name": "Python 3",
      "language": "python",
      "name": "python3"
    },
    "language_info": {
      "codemirror_mode": {
        "name": "ipython",
        "version": 3
      },
      "file_extension": ".py",
      "mimetype": "text/x-python",
      "name": "python",
      "nbconvert_exporter": "python",
      "pygments_lexer": "ipython3",
      "version": "3.6.9"
    }
  },
  "nbformat": 4,
  "nbformat_minor": 0
}